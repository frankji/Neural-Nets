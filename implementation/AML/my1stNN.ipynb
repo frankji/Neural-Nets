{
 "cells": [
  {
   "cell_type": "code",
   "execution_count": 228,
   "metadata": {},
   "outputs": [
    {
     "name": "stdout",
     "output_type": "stream",
     "text": [
      "(50000, 28, 28) (50000,)\n"
     ]
    },
    {
     "data": {
      "image/png": "[encoded data removed]",
      "text/plain": [
       "<matplotlib.figure.Figure at 0x7fbe81339710>"
      ]
     },
     "metadata": {},
     "output_type": "display_data"
    }
   ],
   "source": [
    "from preprocessed_mnist import load_dataset\n",
    "X_train, y_train, X_val, y_val, X_test, y_test = load_dataset()\n",
    "print(X_train.shape, y_train.shape)\n",
    "import matplotlib.pyplot as plt\n",
    "%matplotlib inline\n",
    "plt.imshow(X_train[0], cmap=\"Greys\");"
   ]
  },
  {
   "cell_type": "code",
   "execution_count": 229,
   "metadata": {
    "collapsed": true
   },
   "outputs": [],
   "source": [
    "import tensorflow as tf\n",
    "import numpy as np\n",
    "from keras.utils.np_utils import to_categorical\n",
    "import sys\n",
    "%matplotlib inline\n",
    "import matplotlib.pyplot as plt"
   ]
  },
  {
   "cell_type": "code",
   "execution_count": 230,
   "metadata": {
    "collapsed": true
   },
   "outputs": [],
   "source": [
    "tf.reset_default_graph()\n",
    "X_train = X_train.reshape([X_train.shape[0], -1])\n",
    "y_train = to_categorical(y_train, num_classes=10)\n",
    "X_val = X_val.reshape([X_val.shape[0], -1])\n",
    "y_val = to_categorical(y_val, num_classes=10)\n",
    "X_test = X_test.reshape([X_test.shape[0], -1])\n",
    "y_test = to_categorical(y_test, num_classes=10)"
   ]
  },
  {
   "cell_type": "markdown",
   "metadata": {},
   "source": [
    "Define variables for three hidden layers and one output layer.<br>\n",
    "layer1: 128 neurons with relu activation<br>\n",
    "layer2: 64 neurons with relu activation<br>\n",
    "layer3: 32 neurons with relu activation<br>\n",
    "layer4: output softmax layer for 10 possible labels<br>"
   ]
  },
  {
   "cell_type": "code",
   "execution_count": 231,
   "metadata": {},
   "outputs": [],
   "source": [
    "W1 = tf.get_variable(\"W1\", shape=[784, 256], initializer=tf.contrib.layers.xavier_initializer())\n",
    "b1 = tf.get_variable(\"b1\", shape = [256], initializer=tf.zeros_initializer())\n",
    "W2 = tf.get_variable(\"W2\", shape=[256, 128], initializer=tf.contrib.layers.xavier_initializer())\n",
    "b2 = tf.get_variable(\"b2\", shape = [128], initializer=tf.zeros_initializer())\n",
    "W3 = tf.get_variable(\"W3\", shape=[128, 64], initializer=tf.contrib.layers.xavier_initializer())\n",
    "b3 = tf.get_variable(\"b3\", shape = [64], initializer=tf.zeros_initializer())\n",
    "W4 = tf.get_variable(\"W4\", shape=[64, 10], initializer=tf.contrib.layers.xavier_initializer())\n",
    "b4 = tf.get_variable(\"b4\", shape = [10], initializer=tf.zeros_initializer())"
   ]
  },
  {
   "cell_type": "markdown",
   "metadata": {},
   "source": [
    "Define inputs."
   ]
  },
  {
   "cell_type": "code",
   "execution_count": 232,
   "metadata": {
    "collapsed": true
   },
   "outputs": [],
   "source": [
    "input_X = tf.placeholder(dtype=tf.float32, shape = [None, 784])\n",
    "input_y = tf.placeholder(dtype=tf.float32, shape = [None, 10])"
   ]
  },
  {
   "cell_type": "markdown",
   "metadata": {},
   "source": [
    "Define computational graph."
   ]
  },
  {
   "cell_type": "code",
   "execution_count": 241,
   "metadata": {},
   "outputs": [],
   "source": [
    "A1 = tf.nn.relu(tf.matmul(input_X, W1) + b1)\n",
    "A2 = tf.nn.relu(tf.matmul(A1, W2) + b2)\n",
    "A3 = tf.nn.relu(tf.matmul(A2, W3) + b3)\n",
    "logits = tf.matmul(A3, W4) + b4\n",
    "predicted_y = tf.argmax(tf.nn.softmax(logits), axis = 1)\n",
    "loss = tf.reduce_mean(tf.nn.softmax_cross_entropy_with_logits(logits = logits, labels = input_y))\n",
    "global_step = tf.Variable(0, trainable=False)\n",
    "starter_learning_rate = 1e-3\n",
    "learning_rate = tf.train.exponential_decay(starter_learning_rate, global_step,\n",
    "                                           800, 0.96, staircase=True)\n",
    "optimizer = tf.train.AdamOptimizer(learning_rate=learning_rate).minimize(loss)"
   ]
  },
  {
   "cell_type": "markdown",
   "metadata": {},
   "source": [
    "Training."
   ]
  },
  {
   "cell_type": "code",
   "execution_count": 242,
   "metadata": {},
   "outputs": [
    {
     "name": "stdout",
     "output_type": "stream",
     "text": [
      "10.0%..20.0%..30.0%..40.0%..50.0%..60.0%..70.0%..80.0%..90.0%..epoch 1: Done! Accuracy of validation set = 0.9621\n",
      "10.0%..20.0%..30.0%..40.0%..50.0%..60.0%..70.0%..80.0%..90.0%..epoch 2: Done! Accuracy of validation set = 0.9733\n",
      "10.0%..20.0%..30.0%..40.0%..50.0%..60.0%..70.0%..80.0%..90.0%..epoch 3: Done! Accuracy of validation set = 0.9743\n",
      "10.0%..20.0%..30.0%..40.0%..50.0%..60.0%..70.0%..80.0%..90.0%..epoch 4: Done! Accuracy of validation set = 0.9754\n",
      "10.0%..20.0%..30.0%..40.0%..50.0%..60.0%..70.0%..80.0%..90.0%..epoch 5: Done! Accuracy of validation set = 0.9744\n",
      "10.0%..20.0%..30.0%..40.0%..50.0%..60.0%..70.0%..80.0%..90.0%..epoch 6: Done! Accuracy of validation set = 0.9762\n",
      "10.0%..20.0%..30.0%..40.0%..50.0%..60.0%..70.0%..80.0%..90.0%..epoch 7: Done! Accuracy of validation set = 0.9771\n",
      "10.0%..20.0%..30.0%..40.0%..50.0%..60.0%..70.0%..80.0%..90.0%..epoch 8: Done! Accuracy of validation set = 0.9785\n",
      "10.0%..20.0%..30.0%..40.0%..50.0%..60.0%..70.0%..80.0%..90.0%..epoch 9: Done! Accuracy of validation set = 0.9786\n",
      "10.0%..20.0%..30.0%..40.0%..50.0%..60.0%..70.0%..80.0%..90.0%..epoch 10: Done! Accuracy of validation set = 0.9754\n",
      "10.0%..20.0%..30.0%..40.0%..50.0%..60.0%..70.0%..80.0%..90.0%..epoch 11: Done! Accuracy of validation set = 0.977\n",
      "10.0%..20.0%..30.0%..40.0%..50.0%..60.0%..70.0%..80.0%..90.0%..epoch 12: Done! Accuracy of validation set = 0.977\n",
      "10.0%..20.0%..30.0%..40.0%..50.0%..60.0%..70.0%..80.0%..90.0%..epoch 13: Done! Accuracy of validation set = 0.9758\n",
      "10.0%..20.0%..30.0%..40.0%..50.0%..60.0%..70.0%..80.0%..90.0%..epoch 14: Done! Accuracy of validation set = 0.975\n",
      "10.0%..20.0%..30.0%..40.0%..50.0%..60.0%..70.0%..80.0%..90.0%..epoch 15: Done! Accuracy of validation set = 0.9766\n",
      "10.0%..20.0%..30.0%..40.0%..50.0%..60.0%..70.0%..80.0%..90.0%..epoch 16: Done! Accuracy of validation set = 0.9777\n",
      "10.0%..20.0%..30.0%..40.0%..50.0%..60.0%..70.0%..80.0%..90.0%..epoch 17: Done! Accuracy of validation set = 0.9808\n",
      "10.0%..20.0%..30.0%..40.0%..50.0%..60.0%..70.0%..80.0%..90.0%..epoch 18: Done! Accuracy of validation set = 0.9746\n",
      "10.0%..20.0%..30.0%..40.0%..50.0%..60.0%..70.0%..80.0%..90.0%..epoch 19: Done! Accuracy of validation set = 0.9803\n",
      "10.0%..20.0%..30.0%..40.0%..50.0%..60.0%..70.0%..80.0%..90.0%..epoch 20: Done! Accuracy of validation set = 0.9802\n"
     ]
    }
   ],
   "source": [
    "sess = tf.Session()\n",
    "num_epochs = 20\n",
    "batch_size = 64\n",
    "sess.run(tf.global_variables_initializer())\n",
    "check_points = np.floor((np.arange(1, 10))/10*X_train.shape[0] / batch_size) \n",
    "loss_vals = np.zeros([num_epochs + 1])\n",
    "loss_trains = np.zeros([num_epochs + 1])\n",
    "loss_tests = np.zeros([num_epochs + 1])\n",
    "loss_vals[0] = sess.run(loss, feed_dict = {input_X: X_val, input_y: y_val})\n",
    "loss_trains[0] = sess.run(loss, feed_dict = {input_X: X_train, input_y: y_train})\n",
    "loss_tests[0] = sess.run(loss, feed_dict = {input_X: X_test, input_y: y_test})\n",
    "for epoch in np.arange(num_epochs):\n",
    "    rands = np.arange(X_train.shape[0])\n",
    "    np.random.shuffle(rands)\n",
    "    N = np.ceil(X_train.shape[0] / batch_size)\n",
    "    for i in np.arange(N):\n",
    "        start = np.int(batch_size * i)\n",
    "        end = np.int(np.min([X_train.shape[0], batch_size * (i + 1)]))\n",
    "        index = rands[start:end]\n",
    "        X_batch = X_train[index, :]\n",
    "        y_batch = y_train[index, :]\n",
    "        _, loss_out = sess.run([optimizer, loss], feed_dict = {input_X: X_batch, input_y: y_batch})\n",
    "        if i in check_points:\n",
    "            sys.stdout.write(str(np.ceil(i * batch_size/X_train.shape[0]*100))+\"%..\")\n",
    "    pred_val, loss_vals[epoch + 1] = sess.run([predicted_y, loss], feed_dict = {input_X: X_val, input_y: y_val})\n",
    "    loss_trains[epoch + 1] = sess.run(loss, feed_dict = {input_X: X_train, input_y: y_train})\n",
    "    loss_tests[epoch + 1] = sess.run(loss, feed_dict = {input_X: X_test, input_y: y_test})\n",
    "    acc_val = np.sum(pred_val == np.argmax(y_val, axis=1)) / y_val.shape[0]\n",
    "    print(\"epoch \" + str(epoch+1) + \": Done! Accuracy of validation set = \" + str(acc_val))\n",
    "    \n",
    "\n"
   ]
  },
  {
   "cell_type": "markdown",
   "metadata": {},
   "source": [
    "Prediction accuracy on test set after 20 epochs of training."
   ]
  },
  {
   "cell_type": "code",
   "execution_count": 244,
   "metadata": {},
   "outputs": [
    {
     "name": "stdout",
     "output_type": "stream",
     "text": [
      "Prediction Accuracy of test set: 0.981\n"
     ]
    }
   ],
   "source": [
    "pred_test, loss_test = sess.run([predicted_y, loss], feed_dict = {input_X: X_test, input_y: y_test})\n",
    "acc = np.sum(pred_test == np.argmax(y_test, axis=1)) / y_test.shape[0]\n",
    "print(\"Prediction Accuracy of test set: \" + str(acc))"
   ]
  },
  {
   "cell_type": "code",
   "execution_count": 245,
   "metadata": {},
   "outputs": [
    {
     "data": {
      "text/plain": [
       "<matplotlib.legend.Legend at 0x7fbe687cf9b0>"
      ]
     },
     "execution_count": 245,
     "metadata": {},
     "output_type": "execute_result"
    },
    {
     "data": {
      "image/png": "[encoded data removed]",
      "text/plain": [
       "<matplotlib.figure.Figure at 0x7fbe688f65c0>"
      ]
     },
     "metadata": {},
     "output_type": "display_data"
    }
   ],
   "source": [
    "epochs = np.arange(num_epochs + 1)\n",
    "plt.plot(epochs[1:], loss_trains[1:])\n",
    "plt.plot(epochs[1:], loss_vals[1:])\n",
    "plt.plot(epochs[1:], loss_tests[1:])\n",
    "plt.legend(['Train', 'Validation', 'Test'], loc='upper left')"
   ]
  }
 ],
 "metadata": {
  "kernelspec": {
   "display_name": "Python 3",
   "language": "python",
   "name": "python3"
  },
  "language_info": {
   "codemirror_mode": {
    "name": "ipython",
    "version": 3
   },
   "file_extension": ".py",
   "mimetype": "text/x-python",
   "name": "python",
   "nbconvert_exporter": "python",
   "pygments_lexer": "ipython3",
   "version": "3.6.0"
  }
 },
 "nbformat": 4,
 "nbformat_minor": 2
}
